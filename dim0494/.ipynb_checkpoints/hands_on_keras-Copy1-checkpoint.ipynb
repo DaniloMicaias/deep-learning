{
 "cells": [
  {
   "cell_type": "code",
   "execution_count": 3,
   "id": "ccd9c1da",
   "metadata": {},
   "outputs": [],
   "source": [
    "# load libraries\n",
    "from sklearn.metrics import accuracy_score,classification_report\n",
    "import numpy as np\n",
    "import matplotlib.pyplot as plt\n",
    "from tensorflow import keras\n",
    "from tensorflow.keras import layers, datasets"
   ]
  },
  {
   "cell_type": "code",
   "execution_count": 4,
   "id": "320d991a",
   "metadata": {
    "scrolled": true
   },
   "outputs": [
    {
     "name": "stdout",
     "output_type": "stream",
     "text": [
      "Downloading data from https://www.cs.toronto.edu/~kriz/cifar-10-python.tar.gz\n",
      "170498071/170498071 [==============================] - 20s 0us/step\n"
     ]
    }
   ],
   "source": [
    "# Load the data and split it between train and test sets\n",
    "(X_train, y_train), (X_test, y_test) = datasets.cifar10.load_data()"
   ]
  },
  {
   "cell_type": "code",
   "execution_count": 5,
   "id": "03fe7789",
   "metadata": {},
   "outputs": [],
   "source": [
    "num_classes = 10\n",
    "input_shape = (32, 32, 3)"
   ]
  },
  {
   "cell_type": "code",
   "execution_count": 6,
   "id": "dcfd9c1a",
   "metadata": {},
   "outputs": [
    {
     "name": "stdout",
     "output_type": "stream",
     "text": [
      "X_train shape: (50000, 32, 32, 3, 1)\n",
      "X_test shape: (10000, 32, 32, 3, 1)\n",
      "50000 train samples\n",
      "10000 test samples\n"
     ]
    }
   ],
   "source": [
    "# Scale images to the [0, 1] range\n",
    "X_train = X_train.astype(\"float32\") / 255\n",
    "X_test = X_test.astype(\"float32\") / 255\n",
    "\n",
    "# Make sure images have shape (28, 28, 1)\n",
    "X_train = np.expand_dims(X_train, -1)\n",
    "X_test = np.expand_dims(X_test, -1)\n",
    "print(\"X_train shape:\", X_train.shape)\n",
    "print(\"X_test shape:\", X_test.shape)\n",
    "print(X_train.shape[0], \"train samples\")\n",
    "print(X_test.shape[0], \"test samples\")"
   ]
  },
  {
   "cell_type": "code",
   "execution_count": 7,
   "id": "c3c05a65",
   "metadata": {},
   "outputs": [
    {
     "name": "stdout",
     "output_type": "stream",
     "text": [
      "y_train shape: (50000, 10)\n"
     ]
    }
   ],
   "source": [
    "# convert class vectors to binary class matrices\n",
    "y_train = keras.utils.to_categorical(y_train, num_classes)\n",
    "y_test = keras.utils.to_categorical(y_test, num_classes)\n",
    "print(\"y_train shape:\", y_train.shape)"
   ]
  },
  {
   "cell_type": "code",
   "execution_count": 10,
   "id": "4c9fd5a4",
   "metadata": {},
   "outputs": [
    {
     "name": "stdout",
     "output_type": "stream",
     "text": [
      "Model: \"sequential_1\"\n",
      "_________________________________________________________________\n",
      " Layer (type)                Output Shape              Param #   \n",
      "=================================================================\n",
      " conv2d_2 (Conv2D)           (None, 32, 32, 32)        896       \n",
      "                                                                 \n",
      " max_pooling2d_2 (MaxPooling  (None, 16, 16, 32)       0         \n",
      " 2D)                                                             \n",
      "                                                                 \n",
      " conv2d_3 (Conv2D)           (None, 16, 16, 64)        18496     \n",
      "                                                                 \n",
      " max_pooling2d_3 (MaxPooling  (None, 8, 8, 64)         0         \n",
      " 2D)                                                             \n",
      "                                                                 \n",
      " flatten_1 (Flatten)         (None, 4096)              0         \n",
      "                                                                 \n",
      " dropout_1 (Dropout)         (None, 4096)              0         \n",
      "                                                                 \n",
      " dense_1 (Dense)             (None, 10)                40970     \n",
      "                                                                 \n",
      "=================================================================\n",
      "Total params: 60,362\n",
      "Trainable params: 60,362\n",
      "Non-trainable params: 0\n",
      "_________________________________________________________________\n"
     ]
    }
   ],
   "source": [
    "model = keras.Sequential(\n",
    "    [\n",
    "        keras.Input(shape=input_shape),\n",
    "        layers.Conv2D(32, kernel_size=(3, 3), activation=\"relu\"),\n",
    "        layers.MaxPooling2D(pool_size=(2, 2)),\n",
    "        layers.Conv2D(64, kernel_size=(3, 3), activation=\"relu\"),\n",
    "        layers.MaxPooling2D(pool_size=(2, 2)),\n",
    "        layers.Flatten(),\n",
    "        layers.Dropout(0.5),\n",
    "        layers.Dense(num_classes, activation=\"softmax\"),\n",
    "    ]\n",
    ")\n",
    "\n",
    "model.summary()"
   ]
  },
  {
   "cell_type": "code",
   "execution_count": 11,
   "id": "853f6c8e",
   "metadata": {},
   "outputs": [
    {
     "name": "stdout",
     "output_type": "stream",
     "text": [
      "Epoch 1/15\n"
     ]
    },
    {
     "name": "stderr",
     "output_type": "stream",
     "text": [
      "2022-09-15 13:55:26.687884: W tensorflow/core/framework/cpu_allocator_impl.cc:82] Allocation of 552960000 exceeds 10% of free system memory.\n"
     ]
    },
    {
     "name": "stdout",
     "output_type": "stream",
     "text": [
      "352/352 [==============================] - 12s 35ms/step - loss: 1.6534 - accuracy: 0.4067 - val_loss: 1.3845 - val_accuracy: 0.5190\n",
      "Epoch 2/15\n",
      "352/352 [==============================] - 12s 33ms/step - loss: 1.3265 - accuracy: 0.5326 - val_loss: 1.2274 - val_accuracy: 0.5732\n",
      "Epoch 3/15\n",
      "352/352 [==============================] - 11s 32ms/step - loss: 1.2129 - accuracy: 0.5728 - val_loss: 1.1097 - val_accuracy: 0.6236\n",
      "Epoch 4/15\n",
      "352/352 [==============================] - 11s 32ms/step - loss: 1.1445 - accuracy: 0.6008 - val_loss: 1.0435 - val_accuracy: 0.6502\n",
      "Epoch 5/15\n",
      "352/352 [==============================] - 11s 32ms/step - loss: 1.0828 - accuracy: 0.6209 - val_loss: 1.0366 - val_accuracy: 0.6456\n",
      "Epoch 6/15\n",
      "352/352 [==============================] - 12s 33ms/step - loss: 1.0417 - accuracy: 0.6370 - val_loss: 0.9904 - val_accuracy: 0.6600\n",
      "Epoch 7/15\n",
      "352/352 [==============================] - 11s 32ms/step - loss: 1.0074 - accuracy: 0.6495 - val_loss: 0.9356 - val_accuracy: 0.6872\n",
      "Epoch 8/15\n",
      "352/352 [==============================] - 11s 32ms/step - loss: 0.9810 - accuracy: 0.6609 - val_loss: 0.9365 - val_accuracy: 0.6836\n",
      "Epoch 9/15\n",
      "352/352 [==============================] - 11s 32ms/step - loss: 0.9466 - accuracy: 0.6709 - val_loss: 0.8953 - val_accuracy: 0.7022\n",
      "Epoch 10/15\n",
      "352/352 [==============================] - 11s 32ms/step - loss: 0.9301 - accuracy: 0.6799 - val_loss: 0.8863 - val_accuracy: 0.7054\n",
      "Epoch 11/15\n",
      "352/352 [==============================] - 11s 32ms/step - loss: 0.9058 - accuracy: 0.6863 - val_loss: 0.8575 - val_accuracy: 0.7110\n",
      "Epoch 12/15\n",
      "352/352 [==============================] - 11s 32ms/step - loss: 0.8889 - accuracy: 0.6911 - val_loss: 0.8388 - val_accuracy: 0.7194\n",
      "Epoch 13/15\n",
      "352/352 [==============================] - 12s 33ms/step - loss: 0.8778 - accuracy: 0.6967 - val_loss: 0.8513 - val_accuracy: 0.7174\n",
      "Epoch 14/15\n",
      "352/352 [==============================] - 12s 33ms/step - loss: 0.8562 - accuracy: 0.7050 - val_loss: 0.8417 - val_accuracy: 0.7182\n",
      "Epoch 15/15\n",
      "352/352 [==============================] - 12s 33ms/step - loss: 0.8447 - accuracy: 0.7086 - val_loss: 0.8320 - val_accuracy: 0.7184\n"
     ]
    },
    {
     "data": {
      "text/plain": [
       "<keras.callbacks.History at 0x7f03ec7d9640>"
      ]
     },
     "execution_count": 11,
     "metadata": {},
     "output_type": "execute_result"
    }
   ],
   "source": [
    "# Hyperparameters\n",
    "batch_size = 128\n",
    "epochs = 15\n",
    "model.compile(loss=\"categorical_crossentropy\", optimizer=\"adam\", metrics=[\"accuracy\"])\n",
    "\n",
    "# model training\n",
    "model.fit(X_train, y_train, batch_size=batch_size, epochs=epochs, validation_split=0.1)"
   ]
  },
  {
   "cell_type": "code",
   "execution_count": null,
   "id": "424cfe37",
   "metadata": {
    "scrolled": true
   },
   "outputs": [],
   "source": [
    "score = model.evaluate(X_test, y_test, verbose=0)\n",
    "print(\"Test loss:\", score[0])\n",
    "print(\"Test accuracy:\", score[1])"
   ]
  },
  {
   "cell_type": "code",
   "execution_count": null,
   "id": "c5be0e69",
   "metadata": {},
   "outputs": [],
   "source": []
  }
 ],
 "metadata": {
  "kernelspec": {
   "display_name": "Python 3 (ipykernel)",
   "language": "python",
   "name": "python3"
  },
  "language_info": {
   "codemirror_mode": {
    "name": "ipython",
    "version": 3
   },
   "file_extension": ".py",
   "mimetype": "text/x-python",
   "name": "python",
   "nbconvert_exporter": "python",
   "pygments_lexer": "ipython3",
   "version": "3.9.13"
  }
 },
 "nbformat": 4,
 "nbformat_minor": 5
}
