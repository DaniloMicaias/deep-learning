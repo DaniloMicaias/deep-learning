{
 "cells": [
  {
   "cell_type": "code",
   "execution_count": 2,
   "id": "ccd9c1da",
   "metadata": {},
   "outputs": [],
   "source": [
    "# load libraries\n",
    "from sklearn.metrics import accuracy_score,classification_report\n",
    "import numpy as np\n",
    "import matplotlib.pyplot as plt\n",
    "from tensorflow import keras\n",
    "from tensorflow.keras import layers"
   ]
  },
  {
   "cell_type": "code",
   "execution_count": 3,
   "id": "320d991a",
   "metadata": {},
   "outputs": [
    {
     "name": "stdout",
     "output_type": "stream",
     "text": [
      "Downloading data from https://storage.googleapis.com/tensorflow/tf-keras-datasets/mnist.npz\n",
      "11490434/11490434 [==============================] - 1s 0us/step\n"
     ]
    }
   ],
   "source": [
    "# Load the data and split it between train and test sets\n",
    "(X_train, y_train), (X_test, y_test) = keras.datasets.mnist.load_data()"
   ]
  },
  {
   "cell_type": "code",
   "execution_count": 4,
   "id": "03fe7789",
   "metadata": {},
   "outputs": [],
   "source": [
    "num_classes = 10\n",
    "input_shape = (28, 28, 1)"
   ]
  },
  {
   "cell_type": "code",
   "execution_count": 6,
   "id": "dcfd9c1a",
   "metadata": {},
   "outputs": [
    {
     "name": "stdout",
     "output_type": "stream",
     "text": [
      "X_train shape: (60000, 28, 28, 1, 1)\n",
      "X_test shape: (10000, 28, 28, 1, 1)\n",
      "60000 train samples\n",
      "10000 test samples\n"
     ]
    }
   ],
   "source": [
    "# Scale images to the [0, 1] range\n",
    "X_train = X_train.astype(\"float32\") / 255\n",
    "X_test = X_test.astype(\"float32\") / 255\n",
    "\n",
    "# Make sure images have shape (28, 28, 1)\n",
    "X_train = np.expand_dims(X_train, -1)\n",
    "X_test = np.expand_dims(X_test, -1)\n",
    "print(\"X_train shape:\", X_train.shape)\n",
    "print(\"X_test shape:\", X_test.shape)\n",
    "print(X_train.shape[0], \"train samples\")\n",
    "print(X_test.shape[0], \"test samples\")"
   ]
  },
  {
   "cell_type": "code",
   "execution_count": 7,
   "id": "c3c05a65",
   "metadata": {},
   "outputs": [
    {
     "name": "stdout",
     "output_type": "stream",
     "text": [
      "y_train shape: (60000, 10)\n"
     ]
    }
   ],
   "source": [
    "# convert class vectors to binary class matrices\n",
    "y_train = keras.utils.to_categorical(y_train, num_classes)\n",
    "y_test = keras.utils.to_categorical(y_test, num_classes)\n",
    "print(\"y_train shape:\", y_train.shape)"
   ]
  },
  {
   "cell_type": "code",
   "execution_count": 8,
   "id": "4c9fd5a4",
   "metadata": {},
   "outputs": [
    {
     "name": "stdout",
     "output_type": "stream",
     "text": [
      "Model: \"sequential\"\n",
      "_________________________________________________________________\n",
      " Layer (type)                Output Shape              Param #   \n",
      "=================================================================\n",
      " conv2d (Conv2D)             (None, 26, 26, 32)        320       \n",
      "                                                                 \n",
      " max_pooling2d (MaxPooling2D  (None, 13, 13, 32)       0         \n",
      " )                                                               \n",
      "                                                                 \n",
      " conv2d_1 (Conv2D)           (None, 11, 11, 64)        18496     \n",
      "                                                                 \n",
      " max_pooling2d_1 (MaxPooling  (None, 5, 5, 64)         0         \n",
      " 2D)                                                             \n",
      "                                                                 \n",
      " flatten (Flatten)           (None, 1600)              0         \n",
      "                                                                 \n",
      " dropout (Dropout)           (None, 1600)              0         \n",
      "                                                                 \n",
      " dense (Dense)               (None, 10)                16010     \n",
      "                                                                 \n",
      "=================================================================\n",
      "Total params: 34,826\n",
      "Trainable params: 34,826\n",
      "Non-trainable params: 0\n",
      "_________________________________________________________________\n"
     ]
    },
    {
     "name": "stderr",
     "output_type": "stream",
     "text": [
      "2022-09-01 14:22:07.038031: W tensorflow/stream_executor/platform/default/dso_loader.cc:64] Could not load dynamic library 'libcuda.so.1'; dlerror: libcuda.so.1: cannot open shared object file: No such file or directory\n",
      "2022-09-01 14:22:07.038046: W tensorflow/stream_executor/cuda/cuda_driver.cc:269] failed call to cuInit: UNKNOWN ERROR (303)\n",
      "2022-09-01 14:22:07.038060: I tensorflow/stream_executor/cuda/cuda_diagnostics.cc:156] kernel driver does not appear to be running on this host (LE71): /proc/driver/nvidia/version does not exist\n",
      "2022-09-01 14:22:07.038205: I tensorflow/core/platform/cpu_feature_guard.cc:193] This TensorFlow binary is optimized with oneAPI Deep Neural Network Library (oneDNN) to use the following CPU instructions in performance-critical operations:  AVX2 FMA\n",
      "To enable them in other operations, rebuild TensorFlow with the appropriate compiler flags.\n"
     ]
    }
   ],
   "source": [
    "model = keras.Sequential(\n",
    "    [\n",
    "        keras.Input(shape=input_shape),\n",
    "        layers.Conv2D(32, kernel_size=(3, 3), activation=\"relu\"),\n",
    "        layers.MaxPooling2D(pool_size=(2, 2)),\n",
    "        layers.Conv2D(64, kernel_size=(3, 3), activation=\"relu\"),\n",
    "        layers.MaxPooling2D(pool_size=(2, 2)),\n",
    "        layers.Flatten(),\n",
    "        layers.Dropout(0.5),\n",
    "        layers.Dense(num_classes, activation=\"softmax\"),\n",
    "    ]\n",
    ")\n",
    "\n",
    "model.summary()"
   ]
  },
  {
   "cell_type": "code",
   "execution_count": 13,
   "id": "853f6c8e",
   "metadata": {
    "scrolled": true
   },
   "outputs": [
    {
     "name": "stdout",
     "output_type": "stream",
     "text": [
      "Epoch 1/15\n",
      "844/844 [==============================] - 9s 10ms/step - loss: 0.1221 - accuracy: 0.9638 - val_loss: 0.0671 - val_accuracy: 0.9840\n",
      "Epoch 2/15\n",
      "844/844 [==============================] - 8s 10ms/step - loss: 0.1163 - accuracy: 0.9647 - val_loss: 0.0659 - val_accuracy: 0.9833\n",
      "Epoch 3/15\n",
      "844/844 [==============================] - 8s 9ms/step - loss: 0.1133 - accuracy: 0.9656 - val_loss: 0.0622 - val_accuracy: 0.9847\n",
      "Epoch 4/15\n",
      "844/844 [==============================] - 8s 10ms/step - loss: 0.1144 - accuracy: 0.9662 - val_loss: 0.0652 - val_accuracy: 0.9835\n",
      "Epoch 5/15\n",
      "844/844 [==============================] - 8s 10ms/step - loss: 0.1147 - accuracy: 0.9644 - val_loss: 0.0631 - val_accuracy: 0.9845\n",
      "Epoch 6/15\n",
      "844/844 [==============================] - 8s 9ms/step - loss: 0.1073 - accuracy: 0.9672 - val_loss: 0.0613 - val_accuracy: 0.9842\n",
      "Epoch 7/15\n",
      "844/844 [==============================] - 8s 9ms/step - loss: 0.1071 - accuracy: 0.9674 - val_loss: 0.0593 - val_accuracy: 0.9852\n",
      "Epoch 8/15\n",
      "844/844 [==============================] - 8s 10ms/step - loss: 0.1068 - accuracy: 0.9667 - val_loss: 0.0606 - val_accuracy: 0.9842\n",
      "Epoch 9/15\n",
      "844/844 [==============================] - 8s 10ms/step - loss: 0.1027 - accuracy: 0.9688 - val_loss: 0.0611 - val_accuracy: 0.9847\n",
      "Epoch 10/15\n",
      "844/844 [==============================] - 8s 10ms/step - loss: 0.1029 - accuracy: 0.9692 - val_loss: 0.0630 - val_accuracy: 0.9835\n",
      "Epoch 11/15\n",
      "844/844 [==============================] - 8s 10ms/step - loss: 0.1026 - accuracy: 0.9690 - val_loss: 0.0555 - val_accuracy: 0.9845\n",
      "Epoch 12/15\n",
      "844/844 [==============================] - 8s 10ms/step - loss: 0.1023 - accuracy: 0.9690 - val_loss: 0.0580 - val_accuracy: 0.9845\n",
      "Epoch 13/15\n",
      "844/844 [==============================] - 8s 10ms/step - loss: 0.0990 - accuracy: 0.9697 - val_loss: 0.0548 - val_accuracy: 0.9858\n",
      "Epoch 14/15\n",
      "844/844 [==============================] - 8s 10ms/step - loss: 0.0969 - accuracy: 0.9704 - val_loss: 0.0546 - val_accuracy: 0.9862\n",
      "Epoch 15/15\n",
      "844/844 [==============================] - 8s 10ms/step - loss: 0.0977 - accuracy: 0.9700 - val_loss: 0.0532 - val_accuracy: 0.9865\n"
     ]
    },
    {
     "data": {
      "text/plain": [
       "<keras.callbacks.History at 0x7f0cda2f4d30>"
      ]
     },
     "execution_count": 13,
     "metadata": {},
     "output_type": "execute_result"
    }
   ],
   "source": [
    "# Hyperparameters\n",
    "batch_size = 64\n",
    "epochs = 15\n",
    "model.compile(loss=\"categorical_crossentropy\", optimizer=\"adam\", metrics=[\"accuracy\"])\n",
    "\n",
    "# model training\n",
    "model.fit(X_train, y_train, batch_size=batch_size, epochs=epochs, validation_split=0.1)"
   ]
  },
  {
   "cell_type": "code",
   "execution_count": 14,
   "id": "424cfe37",
   "metadata": {},
   "outputs": [
    {
     "name": "stdout",
     "output_type": "stream",
     "text": [
      "Test loss: 0.05285605415701866\n",
      "Test accuracy: 0.984000027179718\n"
     ]
    }
   ],
   "source": [
    "score = model.evaluate(X_test, y_test, verbose=0)\n",
    "print(\"Test loss:\", score[0])\n",
    "print(\"Test accuracy:\", score[1])"
   ]
  },
  {
   "cell_type": "code",
   "execution_count": null,
   "id": "c5be0e69",
   "metadata": {},
   "outputs": [],
   "source": []
  }
 ],
 "metadata": {
  "kernelspec": {
   "display_name": "Python 3 (ipykernel)",
   "language": "python",
   "name": "python3"
  },
  "language_info": {
   "codemirror_mode": {
    "name": "ipython",
    "version": 3
   },
   "file_extension": ".py",
   "mimetype": "text/x-python",
   "name": "python",
   "nbconvert_exporter": "python",
   "pygments_lexer": "ipython3",
   "version": "3.9.12"
  }
 },
 "nbformat": 4,
 "nbformat_minor": 5
}
