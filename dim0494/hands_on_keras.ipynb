{
 "cells": [
  {
   "cell_type": "code",
   "execution_count": 1,
   "id": "ccd9c1da",
   "metadata": {},
   "outputs": [
    {
     "name": "stderr",
     "output_type": "stream",
     "text": [
      "2022-09-06 20:04:12.373902: I tensorflow/core/platform/cpu_feature_guard.cc:193] This TensorFlow binary is optimized with oneAPI Deep Neural Network Library (oneDNN) to use the following CPU instructions in performance-critical operations:  AVX2 FMA\n",
      "To enable them in other operations, rebuild TensorFlow with the appropriate compiler flags.\n",
      "2022-09-06 20:04:12.453107: W tensorflow/stream_executor/platform/default/dso_loader.cc:64] Could not load dynamic library 'libcudart.so.11.0'; dlerror: libcudart.so.11.0: cannot open shared object file: No such file or directory\n",
      "2022-09-06 20:04:12.453121: I tensorflow/stream_executor/cuda/cudart_stub.cc:29] Ignore above cudart dlerror if you do not have a GPU set up on your machine.\n",
      "2022-09-06 20:04:12.467820: E tensorflow/stream_executor/cuda/cuda_blas.cc:2981] Unable to register cuBLAS factory: Attempting to register factory for plugin cuBLAS when one has already been registered\n",
      "2022-09-06 20:04:12.869018: W tensorflow/stream_executor/platform/default/dso_loader.cc:64] Could not load dynamic library 'libnvinfer.so.7'; dlerror: libnvinfer.so.7: cannot open shared object file: No such file or directory\n",
      "2022-09-06 20:04:12.869064: W tensorflow/stream_executor/platform/default/dso_loader.cc:64] Could not load dynamic library 'libnvinfer_plugin.so.7'; dlerror: libnvinfer_plugin.so.7: cannot open shared object file: No such file or directory\n",
      "2022-09-06 20:04:12.869076: W tensorflow/compiler/tf2tensorrt/utils/py_utils.cc:38] TF-TRT Warning: Cannot dlopen some TensorRT libraries. If you would like to use Nvidia GPU with TensorRT, please make sure the missing libraries mentioned above are installed properly.\n"
     ]
    }
   ],
   "source": [
    "# load libraries\n",
    "from sklearn.metrics import accuracy_score,classification_report\n",
    "import numpy as np\n",
    "import matplotlib.pyplot as plt\n",
    "from tensorflow import keras\n",
    "from tensorflow.keras import layers"
   ]
  },
  {
   "cell_type": "code",
   "execution_count": 2,
   "id": "320d991a",
   "metadata": {},
   "outputs": [
    {
     "name": "stdout",
     "output_type": "stream",
     "text": [
      "Downloading data from https://storage.googleapis.com/tensorflow/tf-keras-datasets/mnist.npz\n",
      "11490434/11490434 [==============================] - 1s 0us/step\n"
     ]
    }
   ],
   "source": [
    "# Load the data and split it between train and test sets\n",
    "(X_train, y_train), (X_test, y_test) = keras.datasets.mnist.load_data()"
   ]
  },
  {
   "cell_type": "code",
   "execution_count": 3,
   "id": "03fe7789",
   "metadata": {},
   "outputs": [],
   "source": [
    "num_classes = 10\n",
    "input_shape = (28, 28, 1)"
   ]
  },
  {
   "cell_type": "code",
   "execution_count": 4,
   "id": "dcfd9c1a",
   "metadata": {},
   "outputs": [
    {
     "name": "stdout",
     "output_type": "stream",
     "text": [
      "X_train shape: (60000, 28, 28, 1)\n",
      "X_test shape: (10000, 28, 28, 1)\n",
      "60000 train samples\n",
      "10000 test samples\n"
     ]
    }
   ],
   "source": [
    "# Scale images to the [0, 1] range\n",
    "X_train = X_train.astype(\"float32\") / 255\n",
    "X_test = X_test.astype(\"float32\") / 255\n",
    "\n",
    "# Make sure images have shape (28, 28, 1)\n",
    "X_train = np.expand_dims(X_train, -1)\n",
    "X_test = np.expand_dims(X_test, -1)\n",
    "print(\"X_train shape:\", X_train.shape)\n",
    "print(\"X_test shape:\", X_test.shape)\n",
    "print(X_train.shape[0], \"train samples\")\n",
    "print(X_test.shape[0], \"test samples\")"
   ]
  },
  {
   "cell_type": "code",
   "execution_count": 5,
   "id": "c3c05a65",
   "metadata": {},
   "outputs": [
    {
     "name": "stdout",
     "output_type": "stream",
     "text": [
      "y_train shape: (60000, 10)\n"
     ]
    }
   ],
   "source": [
    "# convert class vectors to binary class matrices\n",
    "y_train = keras.utils.to_categorical(y_train, num_classes)\n",
    "y_test = keras.utils.to_categorical(y_test, num_classes)\n",
    "print(\"y_train shape:\", y_train.shape)"
   ]
  },
  {
   "cell_type": "code",
   "execution_count": 26,
   "id": "4c9fd5a4",
   "metadata": {},
   "outputs": [
    {
     "name": "stdout",
     "output_type": "stream",
     "text": [
      "Model: \"sequential_8\"\n",
      "_________________________________________________________________\n",
      " Layer (type)                Output Shape              Param #   \n",
      "=================================================================\n",
      " dense_22 (Dense)            (None, 28, 28, 32)        64        \n",
      "                                                                 \n",
      " max_pooling2d_17 (MaxPoolin  (None, 14, 14, 32)       0         \n",
      " g2D)                                                            \n",
      "                                                                 \n",
      " dense_23 (Dense)            (None, 14, 14, 64)        2112      \n",
      "                                                                 \n",
      " max_pooling2d_18 (MaxPoolin  (None, 7, 7, 64)         0         \n",
      " g2D)                                                            \n",
      "                                                                 \n",
      " flatten_14 (Flatten)        (None, 3136)              0         \n",
      "                                                                 \n",
      " dropout_8 (Dropout)         (None, 3136)              0         \n",
      "                                                                 \n",
      " dense_24 (Dense)            (None, 10)                31370     \n",
      "                                                                 \n",
      "=================================================================\n",
      "Total params: 33,546\n",
      "Trainable params: 33,546\n",
      "Non-trainable params: 0\n",
      "_________________________________________________________________\n"
     ]
    }
   ],
   "source": [
    "model = keras.Sequential(\n",
    "    [\n",
    "        keras.Input(shape=input_shape),\n",
    "        layers.Dense(32, activation=\"relu\"),\n",
    "        layers.MaxPooling2D(pool_size=(2, 2)),\n",
    "        layers.Dense(64, activation=\"relu\"),\n",
    "        layers.MaxPooling2D(pool_size=(2, 2)),\n",
    "        layers.Flatten(),\n",
    "        layers.Dropout(0.5),\n",
    "        layers.Dense(num_classes, activation=\"softmax\"),\n",
    "    ]\n",
    ")\n",
    "\n",
    "model.summary()"
   ]
  },
  {
   "cell_type": "code",
   "execution_count": 27,
   "id": "853f6c8e",
   "metadata": {
    "scrolled": true
   },
   "outputs": [
    {
     "name": "stdout",
     "output_type": "stream",
     "text": [
      "Epoch 1/15\n",
      "422/422 [==============================] - 7s 17ms/step - loss: 0.8076 - accuracy: 0.7501 - val_loss: 0.4019 - val_accuracy: 0.8792\n",
      "Epoch 2/15\n",
      "422/422 [==============================] - 7s 16ms/step - loss: 0.5431 - accuracy: 0.8231 - val_loss: 0.3825 - val_accuracy: 0.8757\n",
      "Epoch 3/15\n",
      "422/422 [==============================] - 7s 16ms/step - loss: 0.5303 - accuracy: 0.8293 - val_loss: 0.3785 - val_accuracy: 0.8795\n",
      "Epoch 4/15\n",
      "422/422 [==============================] - 7s 16ms/step - loss: 0.5225 - accuracy: 0.8304 - val_loss: 0.3755 - val_accuracy: 0.8813\n",
      "Epoch 5/15\n",
      "422/422 [==============================] - 7s 17ms/step - loss: 0.5220 - accuracy: 0.8312 - val_loss: 0.3740 - val_accuracy: 0.8837\n",
      "Epoch 6/15\n",
      "422/422 [==============================] - 7s 17ms/step - loss: 0.5213 - accuracy: 0.8314 - val_loss: 0.3650 - val_accuracy: 0.8845\n",
      "Epoch 7/15\n",
      "422/422 [==============================] - 7s 18ms/step - loss: 0.5171 - accuracy: 0.8332 - val_loss: 0.3617 - val_accuracy: 0.8880\n",
      "Epoch 8/15\n",
      "422/422 [==============================] - 7s 17ms/step - loss: 0.5179 - accuracy: 0.8329 - val_loss: 0.3604 - val_accuracy: 0.8852\n",
      "Epoch 9/15\n",
      "422/422 [==============================] - 7s 17ms/step - loss: 0.5142 - accuracy: 0.8339 - val_loss: 0.3654 - val_accuracy: 0.8832\n",
      "Epoch 10/15\n",
      "422/422 [==============================] - 8s 20ms/step - loss: 0.5135 - accuracy: 0.8343 - val_loss: 0.3630 - val_accuracy: 0.8835\n",
      "Epoch 11/15\n",
      "422/422 [==============================] - 8s 18ms/step - loss: 0.5160 - accuracy: 0.8330 - val_loss: 0.3553 - val_accuracy: 0.8907\n",
      "Epoch 12/15\n",
      "422/422 [==============================] - 7s 17ms/step - loss: 0.5176 - accuracy: 0.8338 - val_loss: 0.3645 - val_accuracy: 0.8903\n",
      "Epoch 13/15\n",
      "422/422 [==============================] - 7s 16ms/step - loss: 0.5120 - accuracy: 0.8336 - val_loss: 0.3576 - val_accuracy: 0.8882\n",
      "Epoch 14/15\n",
      "422/422 [==============================] - 7s 17ms/step - loss: 0.5119 - accuracy: 0.8347 - val_loss: 0.3590 - val_accuracy: 0.8900\n",
      "Epoch 15/15\n",
      "422/422 [==============================] - 7s 16ms/step - loss: 0.5100 - accuracy: 0.8352 - val_loss: 0.3638 - val_accuracy: 0.8840\n"
     ]
    },
    {
     "data": {
      "text/plain": [
       "<keras.callbacks.History at 0x7f3240d4c1f0>"
      ]
     },
     "execution_count": 27,
     "metadata": {},
     "output_type": "execute_result"
    }
   ],
   "source": [
    "# Hyperparameters\n",
    "batch_size = 128\n",
    "epochs = 15\n",
    "model.compile(loss=\"categorical_crossentropy\", optimizer=\"adam\", metrics=[\"accuracy\"])\n",
    "\n",
    "# model training\n",
    "model.fit(X_train, y_train, batch_size=batch_size, epochs=epochs, validation_split=0.1)"
   ]
  },
  {
   "cell_type": "code",
   "execution_count": 23,
   "id": "424cfe37",
   "metadata": {
    "scrolled": true
   },
   "outputs": [
    {
     "name": "stdout",
     "output_type": "stream",
     "text": [
      "Test loss: 0.42190298438072205\n",
      "Test accuracy: 0.8679999709129333\n"
     ]
    }
   ],
   "source": [
    "score = model.evaluate(X_test, y_test, verbose=0)\n",
    "print(\"Test loss:\", score[0])\n",
    "print(\"Test accuracy:\", score[1])"
   ]
  },
  {
   "cell_type": "code",
   "execution_count": null,
   "id": "c5be0e69",
   "metadata": {},
   "outputs": [],
   "source": []
  }
 ],
 "metadata": {
  "kernelspec": {
   "display_name": "Python 3 (ipykernel)",
   "language": "python",
   "name": "python3"
  },
  "language_info": {
   "codemirror_mode": {
    "name": "ipython",
    "version": 3
   },
   "file_extension": ".py",
   "mimetype": "text/x-python",
   "name": "python",
   "nbconvert_exporter": "python",
   "pygments_lexer": "ipython3",
   "version": "3.9.13"
  }
 },
 "nbformat": 4,
 "nbformat_minor": 5
}
